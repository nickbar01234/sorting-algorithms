{
 "cells": [
  {
   "cell_type": "code",
   "execution_count": 1,
   "id": "c13f927b-5011-422e-bce3-c42a64a58936",
   "metadata": {},
   "outputs": [],
   "source": [
    "from sorting import *\n",
    "from utils import *\n",
    "import numpy as np\n",
    "np.random.seed(42)"
   ]
  },
  {
   "cell_type": "markdown",
   "id": "bf89980b-8566-4d84-a6d4-613fe4299b78",
   "metadata": {},
   "source": [
    "## Unit Test\n",
    "\n",
    "Note that **assertion** is hidden in sorting.py"
   ]
  },
  {
   "cell_type": "code",
   "execution_count": 2,
   "id": "2b3d16cc-ead4-427c-b09b-640d16988a3b",
   "metadata": {},
   "outputs": [],
   "source": [
    "comparison = Comparison()"
   ]
  },
  {
   "cell_type": "code",
   "execution_count": 3,
   "id": "29656dbc-e7e8-4d32-98c4-bcdd8799287c",
   "metadata": {},
   "outputs": [],
   "source": [
    "sorted_case = [i for i in range(2500)]\n",
    "reverse_sorted_case = [i for i in reversed(range(2500))]"
   ]
  },
  {
   "cell_type": "markdown",
   "id": "51f93489-91db-4d28-b2b2-bb8173bac759",
   "metadata": {},
   "source": [
    "### Insertion Sort"
   ]
  },
  {
   "cell_type": "code",
   "execution_count": 15,
   "id": "b3f63dd1-c642-4123-9d3e-cae50c51365a",
   "metadata": {},
   "outputs": [],
   "source": [
    "_ = comparison.insertionSort(numbers = sorted_case)"
   ]
  },
  {
   "cell_type": "code",
   "execution_count": 16,
   "id": "7db531d1-8ac2-45d3-aeea-8de168d9feaa",
   "metadata": {},
   "outputs": [],
   "source": [
    "_ = comparison.insertionSort(numbers = reverse_sorted_case)"
   ]
  },
  {
   "cell_type": "code",
   "execution_count": 17,
   "id": "dda86fab-b414-4932-b991-d6ae274902fd",
   "metadata": {},
   "outputs": [],
   "source": [
    "for i in range(1000):\n",
    "    random = list(np.random.randint(-100000, 100000, i))\n",
    "    _ = comparison.insertionSort(numbers = random)"
   ]
  },
  {
   "cell_type": "markdown",
   "id": "635415ac-ea58-4312-af47-3811ac403763",
   "metadata": {},
   "source": [
    "### Merge Sort"
   ]
  },
  {
   "cell_type": "code",
   "execution_count": 18,
   "id": "990f4b5b-2253-4660-b8fa-b014dfbaf934",
   "metadata": {},
   "outputs": [],
   "source": [
    "_ = comparison.mergeSort(numbers = sorted_case)"
   ]
  },
  {
   "cell_type": "code",
   "execution_count": 19,
   "id": "122d9248-74f6-4690-978a-a6399c4d023e",
   "metadata": {},
   "outputs": [],
   "source": [
    "_ = comparison.mergeSort(numbers = reverse_sorted_case)"
   ]
  },
  {
   "cell_type": "code",
   "execution_count": 20,
   "id": "ce0e4ce8-39c6-493c-90b3-c6f2fb64effe",
   "metadata": {},
   "outputs": [],
   "source": [
    "for i in range(1000):\n",
    "    random = list(np.random.randint(-100000, 100000, i))\n",
    "    _ = comparison.mergeSort(numbers = random)"
   ]
  },
  {
   "cell_type": "markdown",
   "id": "42f8bef0-d5b1-4c1b-aa7c-66b381b48f91",
   "metadata": {},
   "source": [
    "### Quick Sort"
   ]
  },
  {
   "cell_type": "markdown",
   "id": "019c1be6-a4a6-4ff0-9b9e-cf82f624b940",
   "metadata": {},
   "source": [
    "#### Vanilla"
   ]
  },
  {
   "cell_type": "code",
   "execution_count": 10,
   "id": "e0e11b55-e692-4921-9d96-d86a134c9af9",
   "metadata": {},
   "outputs": [],
   "source": [
    "_ = comparison.quickSortVanilla(numbers = sorted_case)"
   ]
  },
  {
   "cell_type": "code",
   "execution_count": 11,
   "id": "08d0b31d-3475-4994-ba07-83083f4838d8",
   "metadata": {},
   "outputs": [],
   "source": [
    "_ = comparison.quickSortVanilla(numbers = reverse_sorted_case)"
   ]
  },
  {
   "cell_type": "code",
   "execution_count": 12,
   "id": "b3deb197-e799-47c9-ac5c-ee4ddcafff92",
   "metadata": {},
   "outputs": [],
   "source": [
    "for i in range(1000):\n",
    "    random = list(np.random.randint(-100000, 100000, i))\n",
    "    _ = comparison.quickSortVanilla(numbers = random)"
   ]
  },
  {
   "cell_type": "markdown",
   "id": "f3f32705-7009-4f1c-aaf0-fd525186b5ec",
   "metadata": {},
   "source": [
    "#### Randomized"
   ]
  },
  {
   "cell_type": "code",
   "execution_count": 13,
   "id": "0a239f5d-0419-42e6-8d06-17bdc43f6175",
   "metadata": {},
   "outputs": [],
   "source": [
    "_ = comparison.quickSortRandomized(numbers = sorted_case)"
   ]
  },
  {
   "cell_type": "code",
   "execution_count": 14,
   "id": "bd0219e7-b021-47e6-8501-b06d6bd6945e",
   "metadata": {},
   "outputs": [],
   "source": [
    "_ = comparison.quickSortRandomized(numbers = reverse_sorted_case)"
   ]
  },
  {
   "cell_type": "code",
   "execution_count": 15,
   "id": "75fe8584-107b-49c0-a72d-22c17f456f17",
   "metadata": {},
   "outputs": [],
   "source": [
    "for i in range(1000):\n",
    "    random = list(np.random.randint(-100000, 100000, i))\n",
    "    _ = comparison.quickSortRandomized(numbers = random)"
   ]
  },
  {
   "cell_type": "markdown",
   "id": "c4dacdce-a6a7-4fef-9b7d-6d182947f162",
   "metadata": {},
   "source": [
    "### Heap"
   ]
  },
  {
   "cell_type": "markdown",
   "id": "e0f94819-8774-4ea4-a172-69bee42a7caf",
   "metadata": {},
   "source": [
    "#### Build Heap"
   ]
  },
  {
   "cell_type": "code",
   "execution_count": 2,
   "id": "061a45c3-696c-4403-8093-4b05eff90bc4",
   "metadata": {},
   "outputs": [
    {
     "name": "stdout",
     "output_type": "stream",
     "text": [
      "Before: [] After: [None]\n",
      "Before: [-398, -65, 360, -230, -394] After: [None, -398, -394, 360, -230, -65]\n",
      "Before: [-429, 200, -480, 114, -379, -34, -286, -170, -42, -413] After: [None, -480, -413, -429, -170, -379, -34, -286, 114, -42, 200]\n",
      "Before: [-128, -401, 371, 163, -370, 161, -192, 269, -157, -9, -87, 305, -115, -309, 455] After: [None, -401, -370, -309, -157, -128, -115, -192, 269, 163, -9, -87, 305, 161, 371, 455]\n"
     ]
    }
   ],
   "source": [
    "for i in range(0, 16, 5):\n",
    "    random = list(np.random.randint(-500, 500, i))\n",
    "    heap = MinHeap(random)\n",
    "    print(f\"Before: {random} After: {heap.array}\")"
   ]
  },
  {
   "cell_type": "markdown",
   "id": "0482264a-fb71-48fb-add7-0d95b44b14f1",
   "metadata": {},
   "source": [
    "#### Heap Sort"
   ]
  },
  {
   "cell_type": "code",
   "execution_count": 4,
   "id": "e6b04fa9-a972-4a61-858b-39aaa3de9fb7",
   "metadata": {},
   "outputs": [],
   "source": [
    "_ = comparison.heapSort(numbers = sorted_case)"
   ]
  },
  {
   "cell_type": "code",
   "execution_count": 5,
   "id": "81f8377c-7177-422f-a411-90ca9ff2ad2e",
   "metadata": {},
   "outputs": [],
   "source": [
    "_ = comparison.heapSort(numbers = reverse_sorted_case)"
   ]
  },
  {
   "cell_type": "code",
   "execution_count": 6,
   "id": "f355c2f1-8ef5-4cb7-ac39-c12d6410eaa5",
   "metadata": {},
   "outputs": [],
   "source": [
    "for i in range(1000):\n",
    "    random = list(np.random.randint(-100000, 100000, i))\n",
    "    _ = comparison.heapSort(numbers = random)"
   ]
  }
 ],
 "metadata": {
  "kernelspec": {
   "display_name": "Python 3 (ipykernel)",
   "language": "python",
   "name": "python3"
  },
  "language_info": {
   "codemirror_mode": {
    "name": "ipython",
    "version": 3
   },
   "file_extension": ".py",
   "mimetype": "text/x-python",
   "name": "python",
   "nbconvert_exporter": "python",
   "pygments_lexer": "ipython3",
   "version": "3.8.10"
  }
 },
 "nbformat": 4,
 "nbformat_minor": 5
}
