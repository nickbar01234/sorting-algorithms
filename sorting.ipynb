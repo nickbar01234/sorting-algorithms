{
 "cells": [
  {
   "cell_type": "code",
   "execution_count": 1,
   "id": "c13f927b-5011-422e-bce3-c42a64a58936",
   "metadata": {},
   "outputs": [],
   "source": [
    "from sorting import *"
   ]
  },
  {
   "cell_type": "code",
   "execution_count": 2,
   "id": "2b3d16cc-ead4-427c-b09b-640d16988a3b",
   "metadata": {},
   "outputs": [],
   "source": [
    "comparison = Comparison()"
   ]
  },
  {
   "cell_type": "code",
   "execution_count": 5,
   "id": "229d6337-3437-4895-bc9c-089267f4dfe9",
   "metadata": {},
   "outputs": [
    {
     "data": {
      "text/plain": [
       "[2, 3, 12123, 451513, 12345124]"
      ]
     },
     "execution_count": 5,
     "metadata": {},
     "output_type": "execute_result"
    }
   ],
   "source": [
    "comparison.mergeSort(numbers = [3, 2, 12345124, 12123, 451513])"
   ]
  },
  {
   "cell_type": "code",
   "execution_count": 14,
   "id": "c5811d86-8e5a-4600-9130-abdbfa5e7f93",
   "metadata": {},
   "outputs": [],
   "source": [
    "x[0:3] = [4, 5, 6]"
   ]
  },
  {
   "cell_type": "code",
   "execution_count": 15,
   "id": "6dc19197-9670-417b-990b-9ba3f084c3aa",
   "metadata": {},
   "outputs": [
    {
     "data": {
      "text/plain": [
       "[4, 5, 6, 3, 4, 5]"
      ]
     },
     "execution_count": 15,
     "metadata": {},
     "output_type": "execute_result"
    }
   ],
   "source": [
    "x"
   ]
  }
 ],
 "metadata": {
  "kernelspec": {
   "display_name": "Python 3 (ipykernel)",
   "language": "python",
   "name": "python3"
  },
  "language_info": {
   "codemirror_mode": {
    "name": "ipython",
    "version": 3
   },
   "file_extension": ".py",
   "mimetype": "text/x-python",
   "name": "python",
   "nbconvert_exporter": "python",
   "pygments_lexer": "ipython3",
   "version": "3.8.10"
  }
 },
 "nbformat": 4,
 "nbformat_minor": 5
}
